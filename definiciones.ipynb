{
 "cells": [
  {
   "cell_type": "markdown",
   "metadata": {},
   "source": [
    "## Reglas para construir una distribución de frecuencias se obtiene el rango de las muestras que se tiene.\n",
    "\n",
    "1. Se obtiene el rango de la muestra que se tiene.\n",
    "\n",
    "2. Se divide el rango en una cantidad adecuada de intervalos de clase de una misma amplitud. La cantidad suele estar entre 5 y 20. Todo depende de la cantidad de datos que se tenga.\n",
    "\n",
    "Podemos usar la regla de Sturge\n",
    "\n",
    "\\begin{equation}\n",
    "  K = 1 + 3.3Log(N) \n",
    "\\end{equation}\n",
    "\n",
    "K = Número de clases o intervalos\n",
    "\n",
    "N = Total de observaciones\n",
    "\n",
    "3. Se determina la cantidad de observaciones que quedan dentro de la de cada intervalo de clase, es decir, se encuentran las frecuencias de clase."
   ]
  },
  {
   "cell_type": "markdown",
   "metadata": {},
   "source": [
    "## Variabilidad\n",
    "\n",
    "La variabilidad en estadística se refiere a la medida en que los datos se dispersan o se distribuyen alrededor de un valor central, como la media. En otras palabras, es una forma de describir cuán diferentes son los valores en un conjunto de datos. \n",
    "\n"
   ]
  }
 ],
 "metadata": {
  "language_info": {
   "name": "python"
  }
 },
 "nbformat": 4,
 "nbformat_minor": 2
}
